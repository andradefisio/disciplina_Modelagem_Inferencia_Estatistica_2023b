{
  "nbformat": 4,
  "nbformat_minor": 0,
  "metadata": {
    "colab": {
      "provenance": [],
      "authorship_tag": "ABX9TyN2HKCRhhKUaOx2MdS/f5kF"
    },
    "kernelspec": {
      "name": "python3",
      "display_name": "Python 3"
    },
    "language_info": {
      "name": "python"
    }
  },
  "cells": [
    {
      "cell_type": "markdown",
      "source": [
        "### Exercícios\n",
        "\n",
        "Um mestre cervejeiro está realizando um experimento para um novo sabor em que se analisa o amargor da cerveja (Y) em função da adição de uma fruta (X). Para isso, foram realizados testes com os percentuais de 1% a 5% de amargura da bebida. Para melhor avaliar os resultados, os resultados foram organizados\n",
        "\n",
        "x = ([1,2,3,4,5])\n",
        "\n",
        "y = ([50.5,51.5,52.1,54.5,56.2])\n",
        "\n",
        "Considerando que o valor esperado de Y se realaciona com X de acordo com uma equação do primeiro grau, assinale a alternativa correta que contém a reta da regressão.\n",
        "\n",
        "Pergunta 1: \"Como encontrar a reta da regressão?\"\n",
        "\n",
        "Para encontrar a reta de regressão linear, consideremos as variáveis:\n",
        "\n",
        "*   variável independente/preditora (x)\n",
        "*   variável dependente/resposta (y)\n",
        "\n",
        "O objetivo da regressão linear é encontrar uma equação de reta que melhor se ajusta a esses dados, minimizando a soma dos erros entre os valores observados e os valores previstos pela reta.\n",
        "\n",
        "A equação geral da reta de regressão linear é dada por:\n",
        "\n",
        "y = mx + b\n",
        "\n",
        "Onde:\n",
        "- y é o valor previsto da variável dependente (resposta);\n",
        "- x é o valor da variável independente (entrada);\n",
        "- m é o coeficiente angular, que representa a inclinação da reta;\n",
        "- b é o coeficiente linear (intercepto), que representa o ponto de interseção da reta com o eixo y (quando x = 0).\n",
        "\n",
        "Existem diferentes métodos para encontrar os coeficientes m e b, mas o método mais comum é o ```***método dos mínimos quadrados***```. Nesse método, procuramos encontrar os valores de m e b que minimizam a soma dos quadrados dos resíduos, que são as diferenças entre os valores observados (y) e os valores previstos pela reta (mx + b).\n",
        "\n",
        "Os passos para encontrar a reta de regressão linear são os seguintes:\n",
        "\n",
        "1. Calcule as médias das variáveis x e y:\n",
        "\n",
        "   μx = (Σx) / n\n",
        "\n",
        "   μy = (Σy) / n\n",
        "\n",
        "2. Calcule as diferenças entre os valores de x e suas médias, e entre os valores de y e suas médias:\n",
        "\n",
        "   dx = x - μx\n",
        "\n",
        "   dy = y - μy\n",
        "\n",
        "3. Calcule o coeficiente angular (m):\n",
        "\n",
        "   m = Σ(dx * dy) / Σ(dx^2)\n",
        "\n",
        "4. Calcule o coeficiente linear (b):\n",
        "\n",
        "   b = μy - m * μx\n",
        "\n",
        "Após calcular os valores de m e b, você terá a equação da reta de regressão linear, que é a relação matemática entre as variáveis x e y que melhor se ajusta aos dados observados. Essa reta pode ser usada para prever valores de y com base em novos valores de x que não estão presentes no conjunto de dados original.\n",
        "\n",
        "\n",
        "\n"
      ],
      "metadata": {
        "id": "rAMz9xJWt20Y"
      }
    },
    {
      "cell_type": "code",
      "execution_count": 1,
      "metadata": {
        "colab": {
          "base_uri": "https://localhost:8080/"
        },
        "id": "bPoQLAS_tuOR",
        "outputId": "3fe76240-bd65-4134-9b7d-a32ae1a9b16c"
      },
      "outputs": [
        {
          "output_type": "stream",
          "name": "stdout",
          "text": [
            "Coeficiente angular (m): 1.4400000000000006\n",
            "Coeficiente linear (b): 48.64\n",
            "Equação da reta de regressão linear: y = 1.44 * x + 48.64\n"
          ]
        }
      ],
      "source": [
        "# resolução do problema \"amargor da cerveja e porcentagem do suco da fruta\" usando python:\n",
        "\n",
        "import numpy as np\n",
        "\n",
        "# dados do problema\n",
        "x = np.array([1,2,3,4,5])\n",
        "y = np.array([50.5,51.5,52.1,54.5,56.2])\n",
        "\n",
        "# Passo 1. cálculo da média das variáveis:\n",
        "\n",
        "mean_x = np.mean(x) # média de x\n",
        "mean_y = np.mean(y) # média de y\n",
        "\n",
        "# Passo 2. Calculo das diferenças entre os valores de x e suas médias\n",
        "dx = x - mean_x\n",
        "dy = y - mean_y\n",
        "\n",
        "# Passo 3: Calculo do coeficiente angular (m)\n",
        "m = np.sum(dx * dy) / np.sum(dx**2)\n",
        "\n",
        "# Passo 4: Calcular o coeficiente linear (b)\n",
        "b = mean_y - m * mean_x\n",
        "\n",
        "# Imprimir os resultados\n",
        "print(\"Coeficiente angular (m):\", m)\n",
        "print(\"Coeficiente linear (b):\", b)\n",
        "print(f'Equação da reta de regressão linear: y = {m:,.2f}','* x +', b)\n"
      ]
    },
    {
      "cell_type": "code",
      "source": [
        "z = np.array([100,250,300,400,450])\n",
        "w = np.array([50,70,120,175,190])\n",
        "\n",
        "# Passo 1. cálculo da média das variáveis:\n",
        "\n",
        "mean_z = np.mean(z) # média de x\n",
        "mean_w = np.mean(w) # média de y\n",
        "\n",
        "# Passo 2. Calculo das diferenças entre os valores de x e suas médias\n",
        "dz= z - mean_z\n",
        "dw = w - mean_w\n",
        "\n",
        "# Passo 3: Calculo do coeficiente angular (m)\n",
        "n = np.sum(dw * dz) / np.sum(dw**2)\n",
        "\n",
        "# Passo 4: Calcular o coeficiente linear (b)\n",
        "c = mean_z - n * mean_w\n",
        "\n",
        "# Imprimir os resultados\n",
        "print(\"Coeficiente angular (m):\", n)\n",
        "print(\"Coeficiente linear (b):\", c)\n",
        "print(f'Equação da reta de regressão linear: y = {n:,.2f}','* x +', f'{c:,.2f}')\n",
        "\n",
        "print(dz)\n"
      ],
      "metadata": {
        "colab": {
          "base_uri": "https://localhost:8080/"
        },
        "id": "fd24yB5926sK",
        "outputId": "179fbe57-a5da-48c2-f756-0ccd471cdab5"
      },
      "execution_count": null,
      "outputs": [
        {
          "output_type": "stream",
          "name": "stdout",
          "text": [
            "Coeficiente angular (m): 2.1214099216710185\n",
            "Coeficiente linear (b): 43.30939947780678\n",
            "Equação da reta de regressão linear: y = 2.12 * x + 43.31\n",
            "[-200.  -50.    0.  100.  150.]\n"
          ]
        }
      ]
    }
  ]
}